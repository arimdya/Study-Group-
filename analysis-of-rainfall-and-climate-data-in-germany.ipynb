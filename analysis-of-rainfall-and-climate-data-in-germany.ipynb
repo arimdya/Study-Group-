{
 "cells": [
  {
   "cell_type": "markdown",
   "id": "bac79768",
   "metadata": {
    "papermill": {
     "duration": 0.005272,
     "end_time": "2024-12-05T06:18:39.816094",
     "exception": false,
     "start_time": "2024-12-05T06:18:39.810822",
     "status": "completed"
    },
    "tags": []
   },
   "source": [
    "This analysis explores the rainfall, temperature, humidity, and other climatic variables across various cities in Germany from 2015 to 2023. The dataset includes data for **1080 observations** from **10 cities**, providing insights into seasonal trends, geographical distributions, and the relationships between different climatic factors.\n",
    "\n",
    "Key variables in the dataset include:\n",
    "- **Rainfall (mm)**: The amount of rainfall recorded in each city.\n",
    "- **Temperature (°C)**: The recorded temperature in each city.\n",
    "- **Humidity (%)**: The relative humidity in the air.\n",
    "- **City**, **Latitude**, **Longitude**, **Elevation (m)**, and **Climate_Type** are also included to provide context for the rainfall and temperature data.\n",
    "\n",
    "The analysis aims to uncover patterns in rainfall distribution, seasonal effects, geographical trends, and the relationship between temperature, humidity, and elevation. Interactive visualizations using **Plotly** and other tools are used to highlight these patterns, making it easier to understand the climatic variations across the cities of Germany."
   ]
  },
  {
   "cell_type": "code",
   "execution_count": 1,
   "id": "2aa5200a",
   "metadata": {
    "execution": {
     "iopub.execute_input": "2024-12-05T06:18:39.826264Z",
     "iopub.status.busy": "2024-12-05T06:18:39.825864Z",
     "iopub.status.idle": "2024-12-05T06:18:40.660189Z",
     "shell.execute_reply": "2024-12-05T06:18:40.659237Z"
    },
    "papermill": {
     "duration": 0.841843,
     "end_time": "2024-12-05T06:18:40.662410",
     "exception": false,
     "start_time": "2024-12-05T06:18:39.820567",
     "status": "completed"
    },
    "tags": []
   },
   "outputs": [
    {
     "data": {
      "text/html": [
       "<div>\n",
       "<style scoped>\n",
       "    .dataframe tbody tr th:only-of-type {\n",
       "        vertical-align: middle;\n",
       "    }\n",
       "\n",
       "    .dataframe tbody tr th {\n",
       "        vertical-align: top;\n",
       "    }\n",
       "\n",
       "    .dataframe thead th {\n",
       "        text-align: right;\n",
       "    }\n",
       "</style>\n",
       "<table border=\"1\" class=\"dataframe\">\n",
       "  <thead>\n",
       "    <tr style=\"text-align: right;\">\n",
       "      <th></th>\n",
       "      <th>City</th>\n",
       "      <th>Latitude</th>\n",
       "      <th>Longitude</th>\n",
       "      <th>Month</th>\n",
       "      <th>Year</th>\n",
       "      <th>Rainfall (mm)</th>\n",
       "      <th>Elevation (m)</th>\n",
       "      <th>Climate_Type</th>\n",
       "      <th>Temperature (°C)</th>\n",
       "      <th>Humidity (%)</th>\n",
       "    </tr>\n",
       "  </thead>\n",
       "  <tbody>\n",
       "    <tr>\n",
       "      <th>0</th>\n",
       "      <td>Berlin</td>\n",
       "      <td>52.52</td>\n",
       "      <td>13.405</td>\n",
       "      <td>1</td>\n",
       "      <td>2015</td>\n",
       "      <td>71.56</td>\n",
       "      <td>34</td>\n",
       "      <td>Oceanic</td>\n",
       "      <td>19.6</td>\n",
       "      <td>72</td>\n",
       "    </tr>\n",
       "    <tr>\n",
       "      <th>1</th>\n",
       "      <td>Berlin</td>\n",
       "      <td>52.52</td>\n",
       "      <td>13.405</td>\n",
       "      <td>2</td>\n",
       "      <td>2015</td>\n",
       "      <td>129.56</td>\n",
       "      <td>34</td>\n",
       "      <td>Oceanic</td>\n",
       "      <td>31.4</td>\n",
       "      <td>88</td>\n",
       "    </tr>\n",
       "    <tr>\n",
       "      <th>2</th>\n",
       "      <td>Berlin</td>\n",
       "      <td>52.52</td>\n",
       "      <td>13.405</td>\n",
       "      <td>3</td>\n",
       "      <td>2015</td>\n",
       "      <td>24.58</td>\n",
       "      <td>34</td>\n",
       "      <td>Oceanic</td>\n",
       "      <td>15.4</td>\n",
       "      <td>61</td>\n",
       "    </tr>\n",
       "    <tr>\n",
       "      <th>3</th>\n",
       "      <td>Berlin</td>\n",
       "      <td>52.52</td>\n",
       "      <td>13.405</td>\n",
       "      <td>4</td>\n",
       "      <td>2015</td>\n",
       "      <td>177.73</td>\n",
       "      <td>34</td>\n",
       "      <td>Oceanic</td>\n",
       "      <td>15.1</td>\n",
       "      <td>62</td>\n",
       "    </tr>\n",
       "    <tr>\n",
       "      <th>4</th>\n",
       "      <td>Berlin</td>\n",
       "      <td>52.52</td>\n",
       "      <td>13.405</td>\n",
       "      <td>5</td>\n",
       "      <td>2015</td>\n",
       "      <td>100.62</td>\n",
       "      <td>34</td>\n",
       "      <td>Oceanic</td>\n",
       "      <td>-3.0</td>\n",
       "      <td>57</td>\n",
       "    </tr>\n",
       "  </tbody>\n",
       "</table>\n",
       "</div>"
      ],
      "text/plain": [
       "     City  Latitude  Longitude  Month  Year  Rainfall (mm)  Elevation (m)  \\\n",
       "0  Berlin     52.52     13.405      1  2015          71.56             34   \n",
       "1  Berlin     52.52     13.405      2  2015         129.56             34   \n",
       "2  Berlin     52.52     13.405      3  2015          24.58             34   \n",
       "3  Berlin     52.52     13.405      4  2015         177.73             34   \n",
       "4  Berlin     52.52     13.405      5  2015         100.62             34   \n",
       "\n",
       "  Climate_Type  Temperature (°C)  Humidity (%)  \n",
       "0      Oceanic              19.6            72  \n",
       "1      Oceanic              31.4            88  \n",
       "2      Oceanic              15.4            61  \n",
       "3      Oceanic              15.1            62  \n",
       "4      Oceanic              -3.0            57  "
      ]
     },
     "execution_count": 1,
     "metadata": {},
     "output_type": "execute_result"
    }
   ],
   "source": [
    "import pandas as pd\n",
    "df = pd.read_csv('/kaggle/input/germany-city-rainfall-data/Rainfall_Data_Germany_Complete.csv')\n",
    "df.head()"
   ]
  },
  {
   "cell_type": "markdown",
   "id": "94aa2d3e",
   "metadata": {
    "papermill": {
     "duration": 0.004165,
     "end_time": "2024-12-05T06:18:40.671341",
     "exception": false,
     "start_time": "2024-12-05T06:18:40.667176",
     "status": "completed"
    },
    "tags": []
   },
   "source": [
    "# 1. Rainfall Distribution Across Cities\n"
   ]
  },
  {
   "cell_type": "code",
   "execution_count": 2,
   "id": "9c24470d",
   "metadata": {
    "execution": {
     "iopub.execute_input": "2024-12-05T06:18:40.682775Z",
     "iopub.status.busy": "2024-12-05T06:18:40.682421Z",
     "iopub.status.idle": "2024-12-05T06:18:43.141729Z",
     "shell.execute_reply": "2024-12-05T06:18:43.140608Z"
    },
    "papermill": {
     "duration": 2.468482,
     "end_time": "2024-12-05T06:18:43.144146",
     "exception": false,
     "start_time": "2024-12-05T06:18:40.675664",
     "status": "completed"
    },
    "tags": []
   },
   "outputs": [
    {
     "data": {
      "text/html": [
       "<iframe\n",
       "    scrolling=\"no\"\n",
       "    width=\"100%\"\n",
       "    height=\"545px\"\n",
       "    src=\"iframe_figures/figure_2.html\"\n",
       "    frameborder=\"0\"\n",
       "    allowfullscreen\n",
       "></iframe>\n"
      ]
     },
     "metadata": {},
     "output_type": "display_data"
    }
   ],
   "source": [
    "import plotly.express as px\n",
    "\n",
    "fig = px.box(df, x='City', y='Rainfall (mm)', title='Rainfall Distribution Across Cities in Germany')\n",
    "fig.show(renderer='iframe_connected')\n"
   ]
  },
  {
   "cell_type": "markdown",
   "id": "c050e684",
   "metadata": {
    "papermill": {
     "duration": 0.004367,
     "end_time": "2024-12-05T06:18:43.153266",
     "exception": false,
     "start_time": "2024-12-05T06:18:43.148899",
     "status": "completed"
    },
    "tags": []
   },
   "source": [
    "# 2. Average Rainfall by Month\n"
   ]
  },
  {
   "cell_type": "code",
   "execution_count": 3,
   "id": "bb80faab",
   "metadata": {
    "execution": {
     "iopub.execute_input": "2024-12-05T06:18:43.164235Z",
     "iopub.status.busy": "2024-12-05T06:18:43.163817Z",
     "iopub.status.idle": "2024-12-05T06:18:43.263986Z",
     "shell.execute_reply": "2024-12-05T06:18:43.262960Z"
    },
    "papermill": {
     "duration": 0.108474,
     "end_time": "2024-12-05T06:18:43.266393",
     "exception": false,
     "start_time": "2024-12-05T06:18:43.157919",
     "status": "completed"
    },
    "tags": []
   },
   "outputs": [
    {
     "data": {
      "text/html": [
       "<iframe\n",
       "    scrolling=\"no\"\n",
       "    width=\"100%\"\n",
       "    height=\"545px\"\n",
       "    src=\"iframe_figures/figure_3.html\"\n",
       "    frameborder=\"0\"\n",
       "    allowfullscreen\n",
       "></iframe>\n"
      ]
     },
     "metadata": {},
     "output_type": "display_data"
    }
   ],
   "source": [
    "monthly_rainfall = df.groupby('Month')['Rainfall (mm)'].mean().reset_index()\n",
    "fig = px.line(monthly_rainfall, x='Month', y='Rainfall (mm)', title='Average Rainfall by Month')\n",
    "fig.show(renderer='iframe_connected')\n"
   ]
  },
  {
   "cell_type": "markdown",
   "id": "97b7ae69",
   "metadata": {
    "papermill": {
     "duration": 0.00449,
     "end_time": "2024-12-05T06:18:43.275751",
     "exception": false,
     "start_time": "2024-12-05T06:18:43.271261",
     "status": "completed"
    },
    "tags": []
   },
   "source": [
    "# 3. Correlation Between Temperature and Rainfall\n"
   ]
  },
  {
   "cell_type": "code",
   "execution_count": 4,
   "id": "f3d75252",
   "metadata": {
    "execution": {
     "iopub.execute_input": "2024-12-05T06:18:43.286734Z",
     "iopub.status.busy": "2024-12-05T06:18:43.286340Z",
     "iopub.status.idle": "2024-12-05T06:18:43.352445Z",
     "shell.execute_reply": "2024-12-05T06:18:43.351355Z"
    },
    "papermill": {
     "duration": 0.074352,
     "end_time": "2024-12-05T06:18:43.354731",
     "exception": false,
     "start_time": "2024-12-05T06:18:43.280379",
     "status": "completed"
    },
    "tags": []
   },
   "outputs": [
    {
     "data": {
      "text/html": [
       "<iframe\n",
       "    scrolling=\"no\"\n",
       "    width=\"100%\"\n",
       "    height=\"545px\"\n",
       "    src=\"iframe_figures/figure_4.html\"\n",
       "    frameborder=\"0\"\n",
       "    allowfullscreen\n",
       "></iframe>\n"
      ]
     },
     "metadata": {},
     "output_type": "display_data"
    }
   ],
   "source": [
    "fig = px.scatter(df, x='Temperature (°C)', y='Rainfall (mm)', title='Temperature vs Rainfall')\n",
    "fig.show(renderer='iframe_connected')\n"
   ]
  },
  {
   "cell_type": "markdown",
   "id": "7e74a3d8",
   "metadata": {
    "papermill": {
     "duration": 0.004534,
     "end_time": "2024-12-05T06:18:43.364381",
     "exception": false,
     "start_time": "2024-12-05T06:18:43.359847",
     "status": "completed"
    },
    "tags": []
   },
   "source": [
    "# 4. Climate Type vs Rainfall\n"
   ]
  },
  {
   "cell_type": "code",
   "execution_count": 5,
   "id": "ea2ea2b3",
   "metadata": {
    "execution": {
     "iopub.execute_input": "2024-12-05T06:18:43.376126Z",
     "iopub.status.busy": "2024-12-05T06:18:43.375177Z",
     "iopub.status.idle": "2024-12-05T06:18:43.427275Z",
     "shell.execute_reply": "2024-12-05T06:18:43.426246Z"
    },
    "papermill": {
     "duration": 0.060364,
     "end_time": "2024-12-05T06:18:43.429502",
     "exception": false,
     "start_time": "2024-12-05T06:18:43.369138",
     "status": "completed"
    },
    "tags": []
   },
   "outputs": [
    {
     "data": {
      "text/html": [
       "<iframe\n",
       "    scrolling=\"no\"\n",
       "    width=\"100%\"\n",
       "    height=\"545px\"\n",
       "    src=\"iframe_figures/figure_5.html\"\n",
       "    frameborder=\"0\"\n",
       "    allowfullscreen\n",
       "></iframe>\n"
      ]
     },
     "metadata": {},
     "output_type": "display_data"
    }
   ],
   "source": [
    "fig = px.box(df, x='Climate_Type', y='Rainfall (mm)', title='Rainfall Distribution by Climate Type')\n",
    "fig.show(renderer='iframe_connected')\n"
   ]
  },
  {
   "cell_type": "markdown",
   "id": "a17cdf77",
   "metadata": {
    "papermill": {
     "duration": 0.004534,
     "end_time": "2024-12-05T06:18:43.439040",
     "exception": false,
     "start_time": "2024-12-05T06:18:43.434506",
     "status": "completed"
    },
    "tags": []
   },
   "source": [
    "# 5. Rainfall vs Elevation\n"
   ]
  },
  {
   "cell_type": "code",
   "execution_count": 6,
   "id": "0de9f40e",
   "metadata": {
    "execution": {
     "iopub.execute_input": "2024-12-05T06:18:43.450577Z",
     "iopub.status.busy": "2024-12-05T06:18:43.450159Z",
     "iopub.status.idle": "2024-12-05T06:18:43.546917Z",
     "shell.execute_reply": "2024-12-05T06:18:43.546012Z"
    },
    "papermill": {
     "duration": 0.105276,
     "end_time": "2024-12-05T06:18:43.549201",
     "exception": false,
     "start_time": "2024-12-05T06:18:43.443925",
     "status": "completed"
    },
    "tags": []
   },
   "outputs": [
    {
     "data": {
      "text/html": [
       "<iframe\n",
       "    scrolling=\"no\"\n",
       "    width=\"100%\"\n",
       "    height=\"545px\"\n",
       "    src=\"iframe_figures/figure_6.html\"\n",
       "    frameborder=\"0\"\n",
       "    allowfullscreen\n",
       "></iframe>\n"
      ]
     },
     "metadata": {},
     "output_type": "display_data"
    }
   ],
   "source": [
    "fig = px.scatter(df, x='Elevation (m)', y='Rainfall (mm)', color='City', title='Rainfall vs Elevation')\n",
    "fig.show(renderer='iframe_connected')\n"
   ]
  },
  {
   "cell_type": "markdown",
   "id": "a3c3b9c5",
   "metadata": {
    "papermill": {
     "duration": 0.00473,
     "end_time": "2024-12-05T06:18:43.559177",
     "exception": false,
     "start_time": "2024-12-05T06:18:43.554447",
     "status": "completed"
    },
    "tags": []
   },
   "source": [
    "# 6. Heatmap of Rainfall, Temperature, and Humidity Over Time\n"
   ]
  },
  {
   "cell_type": "code",
   "execution_count": 7,
   "id": "25066735",
   "metadata": {
    "execution": {
     "iopub.execute_input": "2024-12-05T06:18:43.571398Z",
     "iopub.status.busy": "2024-12-05T06:18:43.570308Z",
     "iopub.status.idle": "2024-12-05T06:18:43.756737Z",
     "shell.execute_reply": "2024-12-05T06:18:43.755762Z"
    },
    "papermill": {
     "duration": 0.194709,
     "end_time": "2024-12-05T06:18:43.758779",
     "exception": false,
     "start_time": "2024-12-05T06:18:43.564070",
     "status": "completed"
    },
    "tags": []
   },
   "outputs": [
    {
     "data": {
      "text/html": [
       "<iframe\n",
       "    scrolling=\"no\"\n",
       "    width=\"100%\"\n",
       "    height=\"545px\"\n",
       "    src=\"iframe_figures/figure_7.html\"\n",
       "    frameborder=\"0\"\n",
       "    allowfullscreen\n",
       "></iframe>\n"
      ]
     },
     "metadata": {},
     "output_type": "display_data"
    },
    {
     "data": {
      "text/html": [
       "<iframe\n",
       "    scrolling=\"no\"\n",
       "    width=\"100%\"\n",
       "    height=\"545px\"\n",
       "    src=\"iframe_figures/figure_7.html\"\n",
       "    frameborder=\"0\"\n",
       "    allowfullscreen\n",
       "></iframe>\n"
      ]
     },
     "metadata": {},
     "output_type": "display_data"
    },
    {
     "data": {
      "text/html": [
       "<iframe\n",
       "    scrolling=\"no\"\n",
       "    width=\"100%\"\n",
       "    height=\"545px\"\n",
       "    src=\"iframe_figures/figure_7.html\"\n",
       "    frameborder=\"0\"\n",
       "    allowfullscreen\n",
       "></iframe>\n"
      ]
     },
     "metadata": {},
     "output_type": "display_data"
    }
   ],
   "source": [
    "pivot_rainfall = df.pivot_table(index='Year', columns='Month', values='Rainfall (mm)', aggfunc='mean')\n",
    "pivot_temp = df.pivot_table(index='Year', columns='Month', values='Temperature (°C)', aggfunc='mean')\n",
    "pivot_humidity = df.pivot_table(index='Year', columns='Month', values='Humidity (%)', aggfunc='mean')\n",
    "\n",
    "fig = px.imshow(pivot_rainfall, title='Rainfall Heatmap Over Time')\n",
    "fig.show(renderer='iframe_connected')\n",
    "\n",
    "fig = px.imshow(pivot_temp, title='Temperature Heatmap Over Time')\n",
    "fig.show(renderer='iframe_connected')\n",
    "\n",
    "fig = px.imshow(pivot_humidity, title='Humidity Heatmap Over Time')\n",
    "fig.show(renderer='iframe_connected')\n"
   ]
  },
  {
   "cell_type": "markdown",
   "id": "d5ec7d77",
   "metadata": {
    "papermill": {
     "duration": 0.004921,
     "end_time": "2024-12-05T06:18:43.768971",
     "exception": false,
     "start_time": "2024-12-05T06:18:43.764050",
     "status": "completed"
    },
    "tags": []
   },
   "source": [
    "# 7. Rainfall vs Latitude/Longitude\n"
   ]
  },
  {
   "cell_type": "code",
   "execution_count": 8,
   "id": "b8aeddb9",
   "metadata": {
    "execution": {
     "iopub.execute_input": "2024-12-05T06:18:43.781082Z",
     "iopub.status.busy": "2024-12-05T06:18:43.780672Z",
     "iopub.status.idle": "2024-12-05T06:18:43.895530Z",
     "shell.execute_reply": "2024-12-05T06:18:43.894530Z"
    },
    "papermill": {
     "duration": 0.124467,
     "end_time": "2024-12-05T06:18:43.898624",
     "exception": false,
     "start_time": "2024-12-05T06:18:43.774157",
     "status": "completed"
    },
    "tags": []
   },
   "outputs": [
    {
     "data": {
      "text/html": [
       "<iframe\n",
       "    scrolling=\"no\"\n",
       "    width=\"100%\"\n",
       "    height=\"545px\"\n",
       "    src=\"iframe_figures/figure_8.html\"\n",
       "    frameborder=\"0\"\n",
       "    allowfullscreen\n",
       "></iframe>\n"
      ]
     },
     "metadata": {},
     "output_type": "display_data"
    }
   ],
   "source": [
    "fig = px.scatter_geo(df, lat='Latitude', lon='Longitude', color='Rainfall (mm)', size='Rainfall (mm)',\n",
    "                     title='Geographical Distribution of Rainfall', color_continuous_scale='Viridis')\n",
    "fig.show(renderer='iframe_connected')\n"
   ]
  },
  {
   "cell_type": "markdown",
   "id": "44ee1e9f",
   "metadata": {
    "papermill": {
     "duration": 0.004951,
     "end_time": "2024-12-05T06:18:43.910266",
     "exception": false,
     "start_time": "2024-12-05T06:18:43.905315",
     "status": "completed"
    },
    "tags": []
   },
   "source": [
    "# 8. Cities with Highest/Lowest Rainfall\n"
   ]
  },
  {
   "cell_type": "code",
   "execution_count": 9,
   "id": "bc2d7942",
   "metadata": {
    "execution": {
     "iopub.execute_input": "2024-12-05T06:18:43.923100Z",
     "iopub.status.busy": "2024-12-05T06:18:43.922025Z",
     "iopub.status.idle": "2024-12-05T06:18:44.039369Z",
     "shell.execute_reply": "2024-12-05T06:18:44.038352Z"
    },
    "papermill": {
     "duration": 0.126095,
     "end_time": "2024-12-05T06:18:44.041750",
     "exception": false,
     "start_time": "2024-12-05T06:18:43.915655",
     "status": "completed"
    },
    "tags": []
   },
   "outputs": [
    {
     "data": {
      "text/html": [
       "<iframe\n",
       "    scrolling=\"no\"\n",
       "    width=\"100%\"\n",
       "    height=\"545px\"\n",
       "    src=\"iframe_figures/figure_9.html\"\n",
       "    frameborder=\"0\"\n",
       "    allowfullscreen\n",
       "></iframe>\n"
      ]
     },
     "metadata": {},
     "output_type": "display_data"
    },
    {
     "data": {
      "text/html": [
       "<iframe\n",
       "    scrolling=\"no\"\n",
       "    width=\"100%\"\n",
       "    height=\"545px\"\n",
       "    src=\"iframe_figures/figure_9.html\"\n",
       "    frameborder=\"0\"\n",
       "    allowfullscreen\n",
       "></iframe>\n"
      ]
     },
     "metadata": {},
     "output_type": "display_data"
    }
   ],
   "source": [
    "avg_rainfall_by_city = df.groupby('City')['Rainfall (mm)'].mean().sort_values(ascending=False).reset_index()\n",
    "top_cities = avg_rainfall_by_city.head(10)\n",
    "bottom_cities = avg_rainfall_by_city.tail(10)\n",
    "\n",
    "fig = px.bar(top_cities, x='City', y='Rainfall (mm)', title='Top 10 Cities with Highest Rainfall')\n",
    "fig.show(renderer='iframe_connected')\n",
    "\n",
    "fig = px.bar(bottom_cities, x='City', y='Rainfall (mm)', title='Top 10 Cities with Lowest Rainfall')\n",
    "fig.show(renderer='iframe_connected')\n"
   ]
  },
  {
   "cell_type": "markdown",
   "id": "8c68e1e6",
   "metadata": {
    "papermill": {
     "duration": 0.005259,
     "end_time": "2024-12-05T06:18:44.052876",
     "exception": false,
     "start_time": "2024-12-05T06:18:44.047617",
     "status": "completed"
    },
    "tags": []
   },
   "source": [
    "# 9. Temperature vs Humidity (Seasonal Changes)\n"
   ]
  },
  {
   "cell_type": "code",
   "execution_count": 10,
   "id": "bbbbda0e",
   "metadata": {
    "execution": {
     "iopub.execute_input": "2024-12-05T06:18:44.065556Z",
     "iopub.status.busy": "2024-12-05T06:18:44.065149Z",
     "iopub.status.idle": "2024-12-05T06:18:44.126871Z",
     "shell.execute_reply": "2024-12-05T06:18:44.125832Z"
    },
    "papermill": {
     "duration": 0.0707,
     "end_time": "2024-12-05T06:18:44.129109",
     "exception": false,
     "start_time": "2024-12-05T06:18:44.058409",
     "status": "completed"
    },
    "tags": []
   },
   "outputs": [
    {
     "data": {
      "text/html": [
       "<iframe\n",
       "    scrolling=\"no\"\n",
       "    width=\"100%\"\n",
       "    height=\"545px\"\n",
       "    src=\"iframe_figures/figure_10.html\"\n",
       "    frameborder=\"0\"\n",
       "    allowfullscreen\n",
       "></iframe>\n"
      ]
     },
     "metadata": {},
     "output_type": "display_data"
    }
   ],
   "source": [
    "monthly_avg = df.groupby('Month')[['Temperature (°C)', 'Humidity (%)']].mean().reset_index()\n",
    "fig = px.line(monthly_avg, x='Month', y=['Temperature (°C)', 'Humidity (%)'], title='Temperature vs Humidity by Month')\n",
    "fig.show(renderer='iframe_connected')\n"
   ]
  },
  {
   "cell_type": "code",
   "execution_count": 11,
   "id": "022b86b0",
   "metadata": {
    "execution": {
     "iopub.execute_input": "2024-12-05T06:18:44.142048Z",
     "iopub.status.busy": "2024-12-05T06:18:44.141677Z",
     "iopub.status.idle": "2024-12-05T06:18:44.146743Z",
     "shell.execute_reply": "2024-12-05T06:18:44.145485Z"
    },
    "papermill": {
     "duration": 0.014279,
     "end_time": "2024-12-05T06:18:44.149119",
     "exception": false,
     "start_time": "2024-12-05T06:18:44.134840",
     "status": "completed"
    },
    "tags": []
   },
   "outputs": [],
   "source": [
    "# 10. Correlation Matrix\n"
   ]
  },
  {
   "cell_type": "code",
   "execution_count": 12,
   "id": "aa92627b",
   "metadata": {
    "execution": {
     "iopub.execute_input": "2024-12-05T06:18:44.162667Z",
     "iopub.status.busy": "2024-12-05T06:18:44.162308Z",
     "iopub.status.idle": "2024-12-05T06:18:46.415832Z",
     "shell.execute_reply": "2024-12-05T06:18:46.414749Z"
    },
    "papermill": {
     "duration": 2.262798,
     "end_time": "2024-12-05T06:18:46.418015",
     "exception": false,
     "start_time": "2024-12-05T06:18:44.155217",
     "status": "completed"
    },
    "tags": []
   },
   "outputs": [
    {
     "data": {
      "image/png": "[encoded data removed]",
      "text/plain": [
       "<Figure size 1000x800 with 2 Axes>"
      ]
     },
     "metadata": {},
     "output_type": "display_data"
    }
   ],
   "source": [
    "import seaborn as sns\n",
    "import matplotlib.pyplot as plt\n",
    "\n",
    "corr_matrix = df[['Rainfall (mm)', 'Latitude', 'Longitude', 'Elevation (m)', 'Temperature (°C)', 'Humidity (%)']].corr()\n",
    "plt.figure(figsize=(10, 8))\n",
    "sns.heatmap(corr_matrix, annot=True, cmap='coolwarm', fmt='.2f')\n",
    "plt.title('Correlation Heatmap of Variables')\n",
    "plt.show()\n"
   ]
  }
 ],
 "metadata": {
  "kaggle": {
   "accelerator": "none",
   "dataSources": [
    {
     "datasetId": 6232015,
     "sourceId": 10103534,
     "sourceType": "datasetVersion"
    }
   ],
   "dockerImageVersionId": 30804,
   "isGpuEnabled": false,
   "isInternetEnabled": true,
   "language": "python",
   "sourceType": "notebook"
  },
  "kernelspec": {
   "display_name": "Python 3",
   "language": "python",
   "name": "python3"
  },
  "language_info": {
   "codemirror_mode": {
    "name": "ipython",
    "version": 3
   },
   "file_extension": ".py",
   "mimetype": "text/x-python",
   "name": "python",
   "nbconvert_exporter": "python",
   "pygments_lexer": "ipython3",
   "version": "3.10.14"
  },
  "papermill": {
   "default_parameters": {},
   "duration": 10.057642,
   "end_time": "2024-12-05T06:18:47.247903",
   "environment_variables": {},
   "exception": null,
   "input_path": "__notebook__.ipynb",
   "output_path": "__notebook__.ipynb",
   "parameters": {},
   "start_time": "2024-12-05T06:18:37.190261",
   "version": "2.6.0"
  }
 },
 "nbformat": 4,
 "nbformat_minor": 5
}
